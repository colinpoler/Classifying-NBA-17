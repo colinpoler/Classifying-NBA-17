{
 "cells": [
  {
   "cell_type": "code",
   "execution_count": null,
   "metadata": {},
   "outputs": [],
   "source": [
    "import numpy as np\n",
    "import enum\n",
    "import matplotlib.pyplot as plt\n",
    "import os\n",
    "import random\n",
    "import importlib\n",
    "import scipy.stats\n",
    "import csv\n",
    "import math\n",
    "\n",
    "import clusterpoints\n",
    "import game\n",
    "import visualize\n",
    "\n",
    "%matplotlib tk"
   ]
  },
  {
   "cell_type": "code",
   "execution_count": null,
   "metadata": {},
   "outputs": [],
   "source": [
    "# Load all the games into memory\n",
    "n_games = 1304\n",
    "games = game.load_processed_data('processed_data', n=n_games)"
   ]
  },
  {
   "cell_type": "code",
   "execution_count": null,
   "metadata": {},
   "outputs": [],
   "source": [
    "# Count each player's shots, dribbles and passes\n",
    "players_counts = []\n",
    "for game_code, g in games.items():\n",
    "    for quarter_num, quarter in g.quarters.items():\n",
    "        if quarter.possessions is None:\n",
    "            continue\n",
    "        for p in quarter.possessions:\n",
    "            for h in p.thread:\n",
    "                if h.player is None:\n",
    "                    continue\n",
    "                try:\n",
    "                    player, counts = next((player, counts) for player, counts in players_counts\n",
    "                                          if h.player['name'] == player['name'])\n",
    "                except StopIteration:\n",
    "                    player = h.player\n",
    "                    counts = {'pass': 0, 'shot': 0, 'dribble': 0}\n",
    "                    players_counts.append((player, counts))\n",
    "                if h.end_type in counts:\n",
    "                    counts[h.end_type] += 1"
   ]
  },
  {
   "cell_type": "code",
   "execution_count": null,
   "metadata": {
    "scrolled": false
   },
   "outputs": [],
   "source": [
    "# If the player has done at least 15 actions, compute coordinates on a triangle plot\n",
    "players_coords = []\n",
    "for player, counts in players_counts:\n",
    "    total = sum(count for action, count in counts.items())\n",
    "    if total > 15:\n",
    "        stats = {action: count*1.0/total for action, count in counts.items()}\n",
    "        players_coords.append((player, counts, [stats['pass'] + 0.500*stats['shot'],\n",
    "                                                                0.866*stats['shot']]))"
   ]
  },
  {
   "cell_type": "code",
   "execution_count": null,
   "metadata": {},
   "outputs": [],
   "source": [
    "# Get the number of games played from the players file\n",
    "csvreader = csv.DictReader(open('players.csv','r'))\n",
    "players_list = [dict(row) for row in csvreader]\n",
    "for player, counts, coords in players_coords:\n",
    "    player['games played'] = next((int(p['games played']) for p in players_list\n",
    "                                   if p['name'] == player['name']), 0)"
   ]
  },
  {
   "cell_type": "code",
   "execution_count": null,
   "metadata": {},
   "outputs": [],
   "source": [
    "# Plot the full triangle plot\n",
    "importlib.reload(visualize)\n",
    "visualize.triangle_scatter_players(players_coords,\n",
    "                                   tick_size=[.1,.1],\n",
    "                                   bounds=[[0,1.0],\n",
    "                                           [0,1.0]],\n",
    "                                   alpha=0.2)"
   ]
  },
  {
   "cell_type": "code",
   "execution_count": null,
   "metadata": {},
   "outputs": [],
   "source": [
    "# Plot the distribution, and highlight the MVP players\n",
    "visualize.triangle_scatter_players(players_coords,\n",
    "                                   players_to_highlight=['LeBron James',\n",
    "                                                         'Russell Westbrook',\n",
    "                                                         'Kevin Durant',\n",
    "                                                         'Kawhi Leonard',\n",
    "                                                         'Stephen Curry',\n",
    "                                                         'James Harden',\n",
    "                                                         'Kevin Love',\n",
    "                                                         'DeAndre Jordan'],\n",
    "                                   tick_size=[.1,.03],\n",
    "                                   bounds=[[0.4,0.9],\n",
    "                                           [0,0.15]],\n",
    "                                   alpha=0.4)"
   ]
  },
  {
   "cell_type": "code",
   "execution_count": null,
   "metadata": {},
   "outputs": [],
   "source": [
    "# Plot the correlation between EFG and passing propensity\n",
    "x=np.array([x[1]['pass']*1.0/sum(count for action, count in x[1].items())\n",
    "            for x in players_coordsif not math.isnan(x[0]['efg'])])\n",
    "y=np.array([x[0]['efg'] for x in players_coords if not math.isnan(x[0]['efg'])])\n",
    "\n",
    "fig = plt.figure()\n",
    "ax = fig.add_subplot(1,1,1)\n",
    "ax.plot(x,y,'.')\n",
    "ax.set_xlabel('Passing propensity')\n",
    "ax.set_ylabel('Effective Field Goal Percentage')\n",
    "for item in ([ax.title, ax.xaxis.label, ax.yaxis.label] +\n",
    "             ax.get_xticklabels() + ax.get_yticklabels()):\n",
    "    item.set_fontsize('large')\n",
    "\n",
    "# Do a linear regression, plot the line of best fit and label it\n",
    "slope, intercept, rvalue, pvalue, stderr = scipy.stats.linregress(x,y)\n",
    "ax.plot(x,x*slope+intercept,linewidth=3)\n",
    "ax.annotate(\n",
    "    s=\"efg={:.2f}*pass+{:.2f}\\nr={:.2f}, p={:.1e}\".format(slope, intercept, rvalue, pvalue),\n",
    "    xy=(np.mean(x),np.mean(x)*slope+intercept),\n",
    "    xytext=(np.mean(x),np.mean(x)*slope+intercept),\n",
    "    bbox=dict(boxstyle='round,pad=0.5', fc='orange'),\n",
    "    arrowprops=dict(arrowstyle=\"->\", color='orange', lw=4),\n",
    "    zorder=5).draggable()\n",
    "\n",
    "# Highlight the MVPs\n",
    "names = ['LeBron James',\n",
    "         'Russell Westbrook',\n",
    "         'Kevin Durant',\n",
    "         'Kawhi Leonard',\n",
    "         'Stephen Curry',\n",
    "         'James Harden',\n",
    "         'Kevin Love',\n",
    "         'DeAndre Jordan']\n",
    "for name in names:\n",
    "    player, counts, coords = next((player, counts, coords) for player, counts, coords in players_coords\n",
    "                                  if player['name'] == name)\n",
    "    ax.annotate(\n",
    "        s=name,\n",
    "        xy=(counts['pass']*1.0/sum(count for action, count in counts.items()),player['efg']),\n",
    "        xytext=(counts['pass']*1.0/sum(count for action, count in counts.items()),player['efg']),\n",
    "        bbox=dict(boxstyle='round,pad=0.5', fc='limegreen'),\n",
    "        arrowprops=dict(arrowstyle=\"->\", color='limegreen', lw=4),\n",
    "        zorder=4).draggable()"
   ]
  },
  {
   "cell_type": "code",
   "execution_count": null,
   "metadata": {},
   "outputs": [],
   "source": [
    "# Perform k-means clustering for different values of k\n",
    "starting_lineups = pickle.load(open('lineups.pickle','rb'))\n",
    "clusterings = []\n",
    "for k in range(1,10):\n",
    "    groups = clusterpoints.cluster_points(\n",
    "        starting_lineups,\n",
    "        k,\n",
    "        points_func = lambda x: [x for x in [next((coords for player, counts, coords in players_coords\n",
    "                                                   if player['name'] == name), None)\n",
    "                                             for name in x['players']]\n",
    "                                 if x is not None],\n",
    "        iterations_after_none = 500\n",
    "    )\n",
    "    clusterings.append((k,groups))"
   ]
  },
  {
   "cell_type": "code",
   "execution_count": null,
   "metadata": {},
   "outputs": [],
   "source": [
    "# Plot the convergence of the clustering performance for different values of k\n",
    "fig = plt.figure()\n",
    "ax = fig.add_subplot(1,1,1)\n",
    "ax.plot(\n",
    "    [x[0] for x in clusterings],\n",
    "    [np.mean([y['score average'] for y in x[1]]) for x in clusterings]\n",
    ")\n",
    "ax.set_xlabel('Number of clusters')\n",
    "ax.set_ylabel('Average distance from player to cluster center')\n",
    "ax.set_ylim([0, 0.01])\n",
    "for item in ([ax.title, ax.xaxis.label, ax.yaxis.label] +\n",
    "             ax.get_xticklabels() + ax.get_yticklabels()):\n",
    "    item.set_fontsize('large')"
   ]
  },
  {
   "cell_type": "code",
   "execution_count": null,
   "metadata": {
    "scrolled": false
   },
   "outputs": [],
   "source": [
    "# For each cluster, plot the player groups with the distribution in the background\n",
    "importlib.reload(visualize)\n",
    "groups = next(x[1] for x in clusterings if x[0] == 4)\n",
    "for group in groups:\n",
    "    print(', '.join(starting_lineup['team name'] for starting_lineup in group['nearest']))\n",
    "    \n",
    "    cluster_colors = ['red', 'yellow', 'limegreen', 'royalblue', 'm']\n",
    "    clusters = zip(cluster_colors, [[x[0] for x in cluster] for cluster in group['clusters']])\n",
    "    positions  = [[next(player for player, counts in players_counts\n",
    "                        if x[1] == player['name'])['position']\n",
    "                   for x in cluster]\n",
    "                  for cluster in group['clusters']]\n",
    "    position_modes = [max(set(x), key=x.count) for x in positions]\n",
    "    position_fracs = [x[0].count(x[1])*100.0/len(x[0]) for x in zip(positions, position_modes)]\n",
    "    position_labels = [\"{} {:.0f}%\".format(x[0], x[1]) for x in zip(position_modes, position_fracs)]\n",
    "    position_coords = [np.mean([x[0] for x in cluster],axis=0) for cluster in group['clusters']]\n",
    "    cluster_labels = zip(cluster_colors, position_labels, position_coords)\n",
    "    \n",
    "    visualize.triangle_scatter_players(players_coords,\n",
    "                                   points_to_label=cluster_labels,\n",
    "                                   clusters_to_highlight=clusters,\n",
    "                                   tick_size=[.1,.03],\n",
    "                                   bounds=[[0.4,0.9],[0,0.15]],\n",
    "                                   alpha=0.1,\n",
    "                                   label=False)"
   ]
  }
 ],
 "metadata": {
  "kernelspec": {
   "display_name": "Python 3",
   "language": "python",
   "name": "python3"
  },
  "language_info": {
   "codemirror_mode": {
    "name": "ipython",
    "version": 3
   },
   "file_extension": ".py",
   "mimetype": "text/x-python",
   "name": "python",
   "nbconvert_exporter": "python",
   "pygments_lexer": "ipython3",
   "version": "3.6.3"
  }
 },
 "nbformat": 4,
 "nbformat_minor": 2
}
