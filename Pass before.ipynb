{
 "cells": [
  {
   "cell_type": "code",
   "execution_count": null,
   "metadata": {},
   "outputs": [],
   "source": [
    "import numpy as np\n",
    "import enum\n",
    "import matplotlib.pyplot as plt\n",
    "import os\n",
    "import csv\n",
    "import random\n",
    "import importlib\n",
    "import pickle\n",
    "import itertools\n",
    "\n",
    "import clusterpoints\n",
    "import game\n",
    "import visualize\n",
    "\n",
    "%matplotlib tk"
   ]
  },
  {
   "cell_type": "code",
   "execution_count": null,
   "metadata": {},
   "outputs": [],
   "source": [
    "# Load all the games into memory\n",
    "n_games = 1304\n",
    "games = game.load_processed_data('processed_data', n=n_games)"
   ]
  },
  {
   "cell_type": "code",
   "execution_count": null,
   "metadata": {},
   "outputs": [],
   "source": [
    "# Collect all the shot qualities for each player, and the player that passed to them\n",
    "players_records = []\n",
    "for game_code, g in games.items():\n",
    "    for quarter_num, quarter in g.quarters.items():\n",
    "        if quarter.possessions is None:\n",
    "            continue\n",
    "        for p in quarter.possessions:\n",
    "            if len(p.shots) == 0:\n",
    "                continue\n",
    "            if len(p.thread) >= 1:\n",
    "                player = p.thread[-1].player\n",
    "                if player is not None:\n",
    "                    try:\n",
    "                        player_record = next(player_record for p, player_record in players_records\n",
    "                                             if player['name'] == p['name'])\n",
    "                    except StopIteration:\n",
    "                        player_record = {'shooting': [], 'passing': [], 'efg': player['efg']}\n",
    "                        players_records.append((player, player_record))\n",
    "                    player_record['shooting'].append(p.shots[-1].quality)\n",
    "            if len(p.thread) >= 2:\n",
    "                player = p.thread[-2].player\n",
    "                if player is not None:\n",
    "                    try:\n",
    "                        player_record = next(player_record for p, player_record in players_records\n",
    "                                             if player['name'] == p['name'])\n",
    "                    except StopIteration:\n",
    "                        player_record = {'shooting': [], 'passing': [], 'efg': player['efg']}\n",
    "                        players_records.append((player, player_record))\n",
    "                    player_record['passing'].append(p.shots[-1].quality)\n",
    "\n",
    "# Compute the average shot qualities, and other stats\n",
    "for player, player_record in players_records:\n",
    "    if len(player_record['passing']) > 5 and len(player_record['shooting']) > 5:\n",
    "        average_passing_esq = sum(player_record['passing'])/len(player_record['passing'])\n",
    "        average_shooting_esq = sum(player_record['shooting'])/len(player_record['shooting'])\n",
    "        player_record['average passing'] = average_passing_esq\n",
    "        player_record['average shooting'] = average_shooting_esq\n",
    "        player_record['shoot pass ratio'] = np.log10(len(player_record['shooting'])*1.0/len(player_record['passing']))\n",
    "        player_record['number of entries'] = len(player_record['shooting']) + len(player_record['passing'])\n",
    "        player_record['efg plus'] = 100*player_record['efg'] - player_record['average shooting']"
   ]
  },
  {
   "cell_type": "code",
   "execution_count": 8,
   "metadata": {},
   "outputs": [],
   "source": [
    "# Get the number of games played from the players file\n",
    "csvreader = csv.DictReader(open('players.csv','r'))\n",
    "players_list = [dict(row) for row in csvreader]\n",
    "for p, player_record in players_records:\n",
    "    player_record['games played'] = next(int(player['games played']) for player in players_list\n",
    "                                         if player['name'] == p['name'])"
   ]
  },
  {
   "cell_type": "code",
   "execution_count": null,
   "metadata": {},
   "outputs": [],
   "source": [
    "# Plot the distribution, and highlight the MVP players\n",
    "importlib.reload(visualize)\n",
    "visualize.plot_pass_shoot(\n",
    "    players_records,\n",
    "    players_to_highlight=[\n",
    "        'LeBron James',\n",
    "        'Russell Westbrook',\n",
    "        'Kevin Durant',\n",
    "        'Kawhi Leonard',\n",
    "        'Stephen Curry',\n",
    "        'James Harden'],\n",
    "    bounds=[[49,55],\n",
    "            [49,55]]\n",
    ")"
   ]
  },
  {
   "cell_type": "code",
   "execution_count": null,
   "metadata": {
    "scrolled": true
   },
   "outputs": [],
   "source": [
    "# Perform k-means clustering for different values of k\n",
    "starting_lineups = pickle.load(open('lineups.pickle','rb'))\n",
    "clusterings = []\n",
    "for k in range(1,10):\n",
    "    groups = clusterpoints.cluster_points(\n",
    "        starting_lineups,\n",
    "        k,\n",
    "        points_func = lambda x: [x for x in [next(((player_record['average passing'], player_record['average shooting'])\n",
    "                                                   for player, player_record in players_records\n",
    "                                                   if player['name'] == name), None)\n",
    "                                             for name in x['players']]\n",
    "                                 if x is not None],\n",
    "        iterations_after_none = 500\n",
    "    )\n",
    "    clusterings.append((k,groups))\n",
    "# Save the clusterings, so they can be plotted later\n",
    "pickle.dump(clusterings, open('Next clusterings.pickle','wb'))"
   ]
  },
  {
   "cell_type": "code",
   "execution_count": null,
   "metadata": {},
   "outputs": [],
   "source": [
    "# Plot the convergence of the clustering performance for different values of k\n",
    "fig = plt.figure()\n",
    "ax = fig.add_subplot(1,1,1)\n",
    "ax.plot(\n",
    "    [x[0] for x in clusterings],\n",
    "    [np.mean([y['score average'] for y in x[1]]) for x in clusterings]\n",
    ")\n",
    "ax.set_xlabel('Number of clusters')\n",
    "ax.set_ylabel('Average distance from player to cluster center')\n",
    "ax.set_ylim([0, 7])\n",
    "for item in ([ax.title, ax.xaxis.label, ax.yaxis.label] +\n",
    "             ax.get_xticklabels() + ax.get_yticklabels()):\n",
    "    item.set_fontsize('large')"
   ]
  },
  {
   "cell_type": "code",
   "execution_count": null,
   "metadata": {
    "scrolled": false
   },
   "outputs": [],
   "source": [
    "# For each cluster, plot the player groups with the distribution in the background\n",
    "importlib.reload(visualize)\n",
    "groups = next(x[1] for x in clusterings if x[0] == 4)\n",
    "for group in groups:\n",
    "    print(', '.join(starting_lineup['team name'] for starting_lineup in group['nearest']))\n",
    "    \n",
    "    cluster_colors = ['red', 'yellow', 'limegreen', 'royalblue', 'm']\n",
    "    clusters = zip(cluster_colors, [[x[0] for x in cluster] for cluster in group['clusters']])\n",
    "    positions  = [[next(player for player, counts in players_records if x[1] == player['name'])['position']\n",
    "                   for x in cluster]\n",
    "                  for cluster in group['clusters']]\n",
    "    position_modes = [max(set(x), key=x.count) for x in positions]\n",
    "    position_fracs = [x[0].count(x[1])*100.0/len(x[0]) for x in zip(positions, position_modes)]\n",
    "    position_labels = [\"{} {:.0f}%\".format(x[0], x[1]) for x in zip(position_modes, position_fracs)]\n",
    "    position_coords = [np.mean([x[0] for x in cluster],axis=0) for cluster in group['clusters']]\n",
    "    cluster_labels = zip(cluster_colors, position_labels, position_coords)\n",
    "    \n",
    "    visualize.plot_pass_shoot(players_records,\n",
    "                              points_to_label=cluster_labels,\n",
    "                              clusters_to_highlight=clusters,\n",
    "                              bounds=[[49,55],[49,55]],\n",
    "                              alpha=0.1\n",
    "                             )"
   ]
  }
 ],
 "metadata": {
  "kernelspec": {
   "display_name": "Python 3",
   "language": "python",
   "name": "python3"
  },
  "language_info": {
   "codemirror_mode": {
    "name": "ipython",
    "version": 3
   },
   "file_extension": ".py",
   "mimetype": "text/x-python",
   "name": "python",
   "nbconvert_exporter": "python",
   "pygments_lexer": "ipython3",
   "version": "3.6.3"
  }
 },
 "nbformat": 4,
 "nbformat_minor": 2
}
